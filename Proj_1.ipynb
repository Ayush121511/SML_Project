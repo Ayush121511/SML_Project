{
  "cells": [
    {
      "cell_type": "markdown",
      "metadata": {
        "id": "OihX1jFtCFiU"
      },
      "source": [
        "# Project"
      ]
    },
    {
      "cell_type": "markdown",
      "metadata": {
        "id": "YYhW-xbWCFiW"
      },
      "source": [
        "## Importing Libraries"
      ]
    },
    {
      "cell_type": "code",
      "execution_count": null,
      "metadata": {
        "id": "Wn4f3206CFiW"
      },
      "outputs": [],
      "source": [
        "import numpy as np\n",
        "import pandas as pd\n",
        "from sklearn.model_selection import train_test_split\n",
        "from sklearn.cluster import KMeans\n",
        "from sklearn.discriminant_analysis import LinearDiscriminantAnalysis\n",
        "from sklearn.neighbors import LocalOutlierFactor\n",
        "import tensorflow as tf\n",
        "from tensorflow.keras.models import Sequential\n",
        "from tensorflow.keras.layers import Dense"
      ]
    },
    {
      "cell_type": "markdown",
      "metadata": {
        "id": "POjavWo3CFiX"
      },
      "source": [
        "## Dataset"
      ]
    },
    {
      "cell_type": "code",
      "execution_count": null,
      "metadata": {
        "id": "un-WFa0mCFiX"
      },
      "outputs": [],
      "source": [
        "data= pd.read_csv(\"train.csv\")\n",
        "data_test = pd.read_csv(\"test.csv\")"
      ]
    },
    {
      "cell_type": "code",
      "execution_count": null,
      "metadata": {
        "colab": {
          "base_uri": "https://localhost:8080/",
          "height": 487
        },
        "id": "y0iM75UaCFiX",
        "outputId": "003df3d1-6c15-4df6-8a24-83fd1491f817"
      },
      "outputs": [
        {
          "data": {
            "text/html": [
              "\n",
              "  <div id=\"df-369339c4-f530-43fb-9112-b16b5e27fc48\">\n",
              "    <div class=\"colab-df-container\">\n",
              "      <div>\n",
              "<style scoped>\n",
              "    .dataframe tbody tr th:only-of-type {\n",
              "        vertical-align: middle;\n",
              "    }\n",
              "\n",
              "    .dataframe tbody tr th {\n",
              "        vertical-align: top;\n",
              "    }\n",
              "\n",
              "    .dataframe thead th {\n",
              "        text-align: right;\n",
              "    }\n",
              "</style>\n",
              "<table border=\"1\" class=\"dataframe\">\n",
              "  <thead>\n",
              "    <tr style=\"text-align: right;\">\n",
              "      <th></th>\n",
              "      <th>ID</th>\n",
              "      <th>n0</th>\n",
              "      <th>n1</th>\n",
              "      <th>n2</th>\n",
              "      <th>n3</th>\n",
              "      <th>n4</th>\n",
              "      <th>n5</th>\n",
              "      <th>n6</th>\n",
              "      <th>n7</th>\n",
              "      <th>n8</th>\n",
              "      <th>...</th>\n",
              "      <th>n4086</th>\n",
              "      <th>n4087</th>\n",
              "      <th>n4088</th>\n",
              "      <th>n4089</th>\n",
              "      <th>n4090</th>\n",
              "      <th>n4091</th>\n",
              "      <th>n4092</th>\n",
              "      <th>n4093</th>\n",
              "      <th>n4094</th>\n",
              "      <th>n4095</th>\n",
              "    </tr>\n",
              "  </thead>\n",
              "  <tbody>\n",
              "    <tr>\n",
              "      <th>0</th>\n",
              "      <td>0</td>\n",
              "      <td>0.0</td>\n",
              "      <td>0.000000</td>\n",
              "      <td>0.908889</td>\n",
              "      <td>0.251257</td>\n",
              "      <td>0.662262</td>\n",
              "      <td>0.042495</td>\n",
              "      <td>0.000000</td>\n",
              "      <td>0</td>\n",
              "      <td>0.964784</td>\n",
              "      <td>...</td>\n",
              "      <td>0.694072</td>\n",
              "      <td>1.146161</td>\n",
              "      <td>1.483842</td>\n",
              "      <td>0.717836</td>\n",
              "      <td>0.472616</td>\n",
              "      <td>0.000000</td>\n",
              "      <td>0.488022</td>\n",
              "      <td>0.0</td>\n",
              "      <td>0.0</td>\n",
              "      <td>0.655670</td>\n",
              "    </tr>\n",
              "    <tr>\n",
              "      <th>1</th>\n",
              "      <td>1</td>\n",
              "      <td>0.0</td>\n",
              "      <td>0.000000</td>\n",
              "      <td>1.191055</td>\n",
              "      <td>0.407350</td>\n",
              "      <td>0.441898</td>\n",
              "      <td>0.000000</td>\n",
              "      <td>0.334858</td>\n",
              "      <td>0</td>\n",
              "      <td>0.295357</td>\n",
              "      <td>...</td>\n",
              "      <td>0.273436</td>\n",
              "      <td>1.466932</td>\n",
              "      <td>0.940850</td>\n",
              "      <td>0.470344</td>\n",
              "      <td>1.032085</td>\n",
              "      <td>0.000000</td>\n",
              "      <td>0.654070</td>\n",
              "      <td>0.0</td>\n",
              "      <td>0.0</td>\n",
              "      <td>0.614493</td>\n",
              "    </tr>\n",
              "    <tr>\n",
              "      <th>2</th>\n",
              "      <td>2</td>\n",
              "      <td>0.0</td>\n",
              "      <td>0.261903</td>\n",
              "      <td>0.992782</td>\n",
              "      <td>0.301102</td>\n",
              "      <td>0.636006</td>\n",
              "      <td>0.009558</td>\n",
              "      <td>0.009448</td>\n",
              "      <td>0</td>\n",
              "      <td>0.974949</td>\n",
              "      <td>...</td>\n",
              "      <td>0.000000</td>\n",
              "      <td>0.769983</td>\n",
              "      <td>0.834360</td>\n",
              "      <td>0.369656</td>\n",
              "      <td>1.000858</td>\n",
              "      <td>0.431571</td>\n",
              "      <td>0.361993</td>\n",
              "      <td>0.0</td>\n",
              "      <td>0.0</td>\n",
              "      <td>0.392158</td>\n",
              "    </tr>\n",
              "    <tr>\n",
              "      <th>3</th>\n",
              "      <td>3</td>\n",
              "      <td>0.0</td>\n",
              "      <td>0.000000</td>\n",
              "      <td>1.352401</td>\n",
              "      <td>0.346003</td>\n",
              "      <td>0.401412</td>\n",
              "      <td>0.000000</td>\n",
              "      <td>0.000000</td>\n",
              "      <td>0</td>\n",
              "      <td>0.450667</td>\n",
              "      <td>...</td>\n",
              "      <td>0.339935</td>\n",
              "      <td>1.325595</td>\n",
              "      <td>0.981124</td>\n",
              "      <td>0.486731</td>\n",
              "      <td>0.747392</td>\n",
              "      <td>0.000000</td>\n",
              "      <td>0.300671</td>\n",
              "      <td>0.0</td>\n",
              "      <td>0.0</td>\n",
              "      <td>0.628365</td>\n",
              "    </tr>\n",
              "    <tr>\n",
              "      <th>4</th>\n",
              "      <td>4</td>\n",
              "      <td>0.0</td>\n",
              "      <td>0.000000</td>\n",
              "      <td>1.114281</td>\n",
              "      <td>0.696140</td>\n",
              "      <td>0.121505</td>\n",
              "      <td>0.000000</td>\n",
              "      <td>0.000000</td>\n",
              "      <td>0</td>\n",
              "      <td>0.591384</td>\n",
              "      <td>...</td>\n",
              "      <td>0.093661</td>\n",
              "      <td>0.875113</td>\n",
              "      <td>0.360689</td>\n",
              "      <td>0.659230</td>\n",
              "      <td>0.546044</td>\n",
              "      <td>0.000000</td>\n",
              "      <td>0.427255</td>\n",
              "      <td>0.0</td>\n",
              "      <td>0.0</td>\n",
              "      <td>0.835671</td>\n",
              "    </tr>\n",
              "    <tr>\n",
              "      <th>...</th>\n",
              "      <td>...</td>\n",
              "      <td>...</td>\n",
              "      <td>...</td>\n",
              "      <td>...</td>\n",
              "      <td>...</td>\n",
              "      <td>...</td>\n",
              "      <td>...</td>\n",
              "      <td>...</td>\n",
              "      <td>...</td>\n",
              "      <td>...</td>\n",
              "      <td>...</td>\n",
              "      <td>...</td>\n",
              "      <td>...</td>\n",
              "      <td>...</td>\n",
              "      <td>...</td>\n",
              "      <td>...</td>\n",
              "      <td>...</td>\n",
              "      <td>...</td>\n",
              "      <td>...</td>\n",
              "      <td>...</td>\n",
              "      <td>...</td>\n",
              "    </tr>\n",
              "    <tr>\n",
              "      <th>410</th>\n",
              "      <td>410</td>\n",
              "      <td>0.0</td>\n",
              "      <td>0.000000</td>\n",
              "      <td>1.066927</td>\n",
              "      <td>0.495523</td>\n",
              "      <td>0.020179</td>\n",
              "      <td>0.010377</td>\n",
              "      <td>0.000000</td>\n",
              "      <td>0</td>\n",
              "      <td>0.190290</td>\n",
              "      <td>...</td>\n",
              "      <td>0.182461</td>\n",
              "      <td>2.003547</td>\n",
              "      <td>0.602592</td>\n",
              "      <td>0.296488</td>\n",
              "      <td>0.673558</td>\n",
              "      <td>0.000000</td>\n",
              "      <td>0.287565</td>\n",
              "      <td>0.0</td>\n",
              "      <td>0.0</td>\n",
              "      <td>0.595830</td>\n",
              "    </tr>\n",
              "    <tr>\n",
              "      <th>411</th>\n",
              "      <td>411</td>\n",
              "      <td>0.0</td>\n",
              "      <td>0.000000</td>\n",
              "      <td>1.044428</td>\n",
              "      <td>0.630166</td>\n",
              "      <td>0.214812</td>\n",
              "      <td>0.000000</td>\n",
              "      <td>0.297711</td>\n",
              "      <td>0</td>\n",
              "      <td>0.992859</td>\n",
              "      <td>...</td>\n",
              "      <td>0.000000</td>\n",
              "      <td>0.836084</td>\n",
              "      <td>1.055142</td>\n",
              "      <td>0.272300</td>\n",
              "      <td>1.213401</td>\n",
              "      <td>0.106611</td>\n",
              "      <td>0.494905</td>\n",
              "      <td>0.0</td>\n",
              "      <td>0.0</td>\n",
              "      <td>0.321924</td>\n",
              "    </tr>\n",
              "    <tr>\n",
              "      <th>412</th>\n",
              "      <td>412</td>\n",
              "      <td>0.0</td>\n",
              "      <td>0.000000</td>\n",
              "      <td>1.524889</td>\n",
              "      <td>0.000000</td>\n",
              "      <td>0.791997</td>\n",
              "      <td>0.000000</td>\n",
              "      <td>0.000000</td>\n",
              "      <td>0</td>\n",
              "      <td>0.070156</td>\n",
              "      <td>...</td>\n",
              "      <td>0.269538</td>\n",
              "      <td>1.565473</td>\n",
              "      <td>0.857422</td>\n",
              "      <td>0.642805</td>\n",
              "      <td>0.870113</td>\n",
              "      <td>0.134546</td>\n",
              "      <td>0.150362</td>\n",
              "      <td>0.0</td>\n",
              "      <td>0.0</td>\n",
              "      <td>0.724412</td>\n",
              "    </tr>\n",
              "    <tr>\n",
              "      <th>413</th>\n",
              "      <td>413</td>\n",
              "      <td>0.0</td>\n",
              "      <td>0.000000</td>\n",
              "      <td>1.066159</td>\n",
              "      <td>0.809718</td>\n",
              "      <td>0.601291</td>\n",
              "      <td>0.000000</td>\n",
              "      <td>0.000000</td>\n",
              "      <td>0</td>\n",
              "      <td>0.728140</td>\n",
              "      <td>...</td>\n",
              "      <td>0.407508</td>\n",
              "      <td>0.740154</td>\n",
              "      <td>0.947700</td>\n",
              "      <td>0.000000</td>\n",
              "      <td>0.625964</td>\n",
              "      <td>0.000000</td>\n",
              "      <td>0.013839</td>\n",
              "      <td>0.0</td>\n",
              "      <td>0.0</td>\n",
              "      <td>0.367881</td>\n",
              "    </tr>\n",
              "    <tr>\n",
              "      <th>414</th>\n",
              "      <td>414</td>\n",
              "      <td>0.0</td>\n",
              "      <td>0.235139</td>\n",
              "      <td>1.058271</td>\n",
              "      <td>0.327235</td>\n",
              "      <td>0.801501</td>\n",
              "      <td>0.000000</td>\n",
              "      <td>0.000000</td>\n",
              "      <td>0</td>\n",
              "      <td>1.372816</td>\n",
              "      <td>...</td>\n",
              "      <td>0.373050</td>\n",
              "      <td>0.369727</td>\n",
              "      <td>1.159917</td>\n",
              "      <td>0.287697</td>\n",
              "      <td>0.846405</td>\n",
              "      <td>0.315870</td>\n",
              "      <td>0.000000</td>\n",
              "      <td>0.0</td>\n",
              "      <td>0.0</td>\n",
              "      <td>0.347072</td>\n",
              "    </tr>\n",
              "  </tbody>\n",
              "</table>\n",
              "<p>415 rows × 4097 columns</p>\n",
              "</div>\n",
              "      <button class=\"colab-df-convert\" onclick=\"convertToInteractive('df-369339c4-f530-43fb-9112-b16b5e27fc48')\"\n",
              "              title=\"Convert this dataframe to an interactive table.\"\n",
              "              style=\"display:none;\">\n",
              "        \n",
              "  <svg xmlns=\"http://www.w3.org/2000/svg\" height=\"24px\"viewBox=\"0 0 24 24\"\n",
              "       width=\"24px\">\n",
              "    <path d=\"M0 0h24v24H0V0z\" fill=\"none\"/>\n",
              "    <path d=\"M18.56 5.44l.94 2.06.94-2.06 2.06-.94-2.06-.94-.94-2.06-.94 2.06-2.06.94zm-11 1L8.5 8.5l.94-2.06 2.06-.94-2.06-.94L8.5 2.5l-.94 2.06-2.06.94zm10 10l.94 2.06.94-2.06 2.06-.94-2.06-.94-.94-2.06-.94 2.06-2.06.94z\"/><path d=\"M17.41 7.96l-1.37-1.37c-.4-.4-.92-.59-1.43-.59-.52 0-1.04.2-1.43.59L10.3 9.45l-7.72 7.72c-.78.78-.78 2.05 0 2.83L4 21.41c.39.39.9.59 1.41.59.51 0 1.02-.2 1.41-.59l7.78-7.78 2.81-2.81c.8-.78.8-2.07 0-2.86zM5.41 20L4 18.59l7.72-7.72 1.47 1.35L5.41 20z\"/>\n",
              "  </svg>\n",
              "      </button>\n",
              "      \n",
              "  <style>\n",
              "    .colab-df-container {\n",
              "      display:flex;\n",
              "      flex-wrap:wrap;\n",
              "      gap: 12px;\n",
              "    }\n",
              "\n",
              "    .colab-df-convert {\n",
              "      background-color: #E8F0FE;\n",
              "      border: none;\n",
              "      border-radius: 50%;\n",
              "      cursor: pointer;\n",
              "      display: none;\n",
              "      fill: #1967D2;\n",
              "      height: 32px;\n",
              "      padding: 0 0 0 0;\n",
              "      width: 32px;\n",
              "    }\n",
              "\n",
              "    .colab-df-convert:hover {\n",
              "      background-color: #E2EBFA;\n",
              "      box-shadow: 0px 1px 2px rgba(60, 64, 67, 0.3), 0px 1px 3px 1px rgba(60, 64, 67, 0.15);\n",
              "      fill: #174EA6;\n",
              "    }\n",
              "\n",
              "    [theme=dark] .colab-df-convert {\n",
              "      background-color: #3B4455;\n",
              "      fill: #D2E3FC;\n",
              "    }\n",
              "\n",
              "    [theme=dark] .colab-df-convert:hover {\n",
              "      background-color: #434B5C;\n",
              "      box-shadow: 0px 1px 3px 1px rgba(0, 0, 0, 0.15);\n",
              "      filter: drop-shadow(0px 1px 2px rgba(0, 0, 0, 0.3));\n",
              "      fill: #FFFFFF;\n",
              "    }\n",
              "  </style>\n",
              "\n",
              "      <script>\n",
              "        const buttonEl =\n",
              "          document.querySelector('#df-369339c4-f530-43fb-9112-b16b5e27fc48 button.colab-df-convert');\n",
              "        buttonEl.style.display =\n",
              "          google.colab.kernel.accessAllowed ? 'block' : 'none';\n",
              "\n",
              "        async function convertToInteractive(key) {\n",
              "          const element = document.querySelector('#df-369339c4-f530-43fb-9112-b16b5e27fc48');\n",
              "          const dataTable =\n",
              "            await google.colab.kernel.invokeFunction('convertToInteractive',\n",
              "                                                     [key], {});\n",
              "          if (!dataTable) return;\n",
              "\n",
              "          const docLinkHtml = 'Like what you see? Visit the ' +\n",
              "            '<a target=\"_blank\" href=https://colab.research.google.com/notebooks/data_table.ipynb>data table notebook</a>'\n",
              "            + ' to learn more about interactive tables.';\n",
              "          element.innerHTML = '';\n",
              "          dataTable['output_type'] = 'display_data';\n",
              "          await google.colab.output.renderOutput(dataTable, element);\n",
              "          const docLink = document.createElement('div');\n",
              "          docLink.innerHTML = docLinkHtml;\n",
              "          element.appendChild(docLink);\n",
              "        }\n",
              "      </script>\n",
              "    </div>\n",
              "  </div>\n",
              "  "
            ],
            "text/plain": [
              "      ID   n0        n1        n2        n3        n4        n5        n6  n7  \\\n",
              "0      0  0.0  0.000000  0.908889  0.251257  0.662262  0.042495  0.000000   0   \n",
              "1      1  0.0  0.000000  1.191055  0.407350  0.441898  0.000000  0.334858   0   \n",
              "2      2  0.0  0.261903  0.992782  0.301102  0.636006  0.009558  0.009448   0   \n",
              "3      3  0.0  0.000000  1.352401  0.346003  0.401412  0.000000  0.000000   0   \n",
              "4      4  0.0  0.000000  1.114281  0.696140  0.121505  0.000000  0.000000   0   \n",
              "..   ...  ...       ...       ...       ...       ...       ...       ...  ..   \n",
              "410  410  0.0  0.000000  1.066927  0.495523  0.020179  0.010377  0.000000   0   \n",
              "411  411  0.0  0.000000  1.044428  0.630166  0.214812  0.000000  0.297711   0   \n",
              "412  412  0.0  0.000000  1.524889  0.000000  0.791997  0.000000  0.000000   0   \n",
              "413  413  0.0  0.000000  1.066159  0.809718  0.601291  0.000000  0.000000   0   \n",
              "414  414  0.0  0.235139  1.058271  0.327235  0.801501  0.000000  0.000000   0   \n",
              "\n",
              "           n8  ...     n4086     n4087     n4088     n4089     n4090  \\\n",
              "0    0.964784  ...  0.694072  1.146161  1.483842  0.717836  0.472616   \n",
              "1    0.295357  ...  0.273436  1.466932  0.940850  0.470344  1.032085   \n",
              "2    0.974949  ...  0.000000  0.769983  0.834360  0.369656  1.000858   \n",
              "3    0.450667  ...  0.339935  1.325595  0.981124  0.486731  0.747392   \n",
              "4    0.591384  ...  0.093661  0.875113  0.360689  0.659230  0.546044   \n",
              "..        ...  ...       ...       ...       ...       ...       ...   \n",
              "410  0.190290  ...  0.182461  2.003547  0.602592  0.296488  0.673558   \n",
              "411  0.992859  ...  0.000000  0.836084  1.055142  0.272300  1.213401   \n",
              "412  0.070156  ...  0.269538  1.565473  0.857422  0.642805  0.870113   \n",
              "413  0.728140  ...  0.407508  0.740154  0.947700  0.000000  0.625964   \n",
              "414  1.372816  ...  0.373050  0.369727  1.159917  0.287697  0.846405   \n",
              "\n",
              "        n4091     n4092  n4093  n4094     n4095  \n",
              "0    0.000000  0.488022    0.0    0.0  0.655670  \n",
              "1    0.000000  0.654070    0.0    0.0  0.614493  \n",
              "2    0.431571  0.361993    0.0    0.0  0.392158  \n",
              "3    0.000000  0.300671    0.0    0.0  0.628365  \n",
              "4    0.000000  0.427255    0.0    0.0  0.835671  \n",
              "..        ...       ...    ...    ...       ...  \n",
              "410  0.000000  0.287565    0.0    0.0  0.595830  \n",
              "411  0.106611  0.494905    0.0    0.0  0.321924  \n",
              "412  0.134546  0.150362    0.0    0.0  0.724412  \n",
              "413  0.000000  0.013839    0.0    0.0  0.367881  \n",
              "414  0.315870  0.000000    0.0    0.0  0.347072  \n",
              "\n",
              "[415 rows x 4097 columns]"
            ]
          },
          "execution_count": 491,
          "metadata": {},
          "output_type": "execute_result"
        }
      ],
      "source": [
        "data_test"
      ]
    },
    {
      "cell_type": "code",
      "execution_count": null,
      "metadata": {
        "id": "zz_H9vwCCFiY"
      },
      "outputs": [],
      "source": [
        "arr = data.to_numpy()\n",
        "arr_test = data_test.to_numpy()\n",
        "deleted=0\n",
        "arr_aug = arr\n",
        "for i in range(arr.shape[0]):\n",
        "    if(np.any(arr[i]!=arr[i])):\n",
        "        arr_aug = np.delete(arr_aug,i-deleted,axis=0)\n",
        "        deleted+=1\n",
        "arr=arr_aug"
      ]
    },
    {
      "cell_type": "code",
      "execution_count": null,
      "metadata": {
        "id": "2WZQIBmiCFiY"
      },
      "outputs": [],
      "source": [
        "Y_train = (arr.T[-1]).T\n",
        "X= (arr.T[1:-1].T)\n",
        "X_test= (arr_test.T[1:].T)"
      ]
    },
    {
      "cell_type": "code",
      "execution_count": null,
      "metadata": {
        "colab": {
          "base_uri": "https://localhost:8080/"
        },
        "id": "q2ZL_N3rCFiY",
        "outputId": "0a2fd631-1799-42e9-a0ff-6846bd4ea432"
      },
      "outputs": [
        {
          "data": {
            "text/plain": [
              "20"
            ]
          },
          "execution_count": 494,
          "metadata": {},
          "output_type": "execute_result"
        }
      ],
      "source": [
        "unique=[]\n",
        "sum=0\n",
        "for i in Y_train:\n",
        "    if(i not in unique):\n",
        "        unique.append(i)\n",
        "        sum+=1\n",
        "sum"
      ]
    },
    {
      "cell_type": "code",
      "execution_count": null,
      "metadata": {
        "colab": {
          "base_uri": "https://localhost:8080/"
        },
        "id": "bofP-8mKCFiY",
        "outputId": "76e9715e-0148-4b72-d864-a70358cf70aa"
      },
      "outputs": [
        {
          "data": {
            "text/plain": [
              "['Orange_Ripe',\n",
              " 'Banana_Ripe',\n",
              " 'Mango_Raw',\n",
              " 'Leeche_Raw',\n",
              " 'Mango_Ripe',\n",
              " 'Papaya_Ripe',\n",
              " 'Guava_Ripe',\n",
              " 'Apple_Ripe',\n",
              " 'Pomengranate_Ripe',\n",
              " 'Guava_Raw',\n",
              " 'Strawberry_Raw',\n",
              " 'Apple_Raw',\n",
              " 'Leeche_Ripe',\n",
              " 'Papaya_Raw',\n",
              " 'Strawberry_Ripe',\n",
              " 'Pomengranate_Raw',\n",
              " 'Coconut_Ripe',\n",
              " 'Banana_Raw',\n",
              " 'Coconut_Raw',\n",
              " 'Orange_Raw']"
            ]
          },
          "execution_count": 495,
          "metadata": {},
          "output_type": "execute_result"
        }
      ],
      "source": [
        "unique"
      ]
    },
    {
      "cell_type": "code",
      "execution_count": null,
      "metadata": {
        "colab": {
          "base_uri": "https://localhost:8080/"
        },
        "id": "PtTBmnOcCFiZ",
        "outputId": "0097755a-80b8-4b0f-d4df-323b98f4d285"
      },
      "outputs": [
        {
          "data": {
            "text/plain": [
              "(1216, 4096)"
            ]
          },
          "execution_count": 496,
          "metadata": {},
          "output_type": "execute_result"
        }
      ],
      "source": [
        "X.shape"
      ]
    },
    {
      "cell_type": "markdown",
      "metadata": {
        "id": "SBwmbwsaCFiZ"
      },
      "source": [
        "## Clustering"
      ]
    },
    {
      "cell_type": "code",
      "execution_count": null,
      "metadata": {
        "id": "S8wd8tSENsoC"
      },
      "outputs": [],
      "source": [
        "X1 = np.vstack((X,X_test))"
      ]
    },
    {
      "cell_type": "code",
      "execution_count": null,
      "metadata": {
        "id": "YV_HeuwGCFiZ"
      },
      "outputs": [],
      "source": [
        "kmeans = KMeans(n_clusters=sum, random_state=0, n_init=\"auto\").fit(X1)"
      ]
    },
    {
      "cell_type": "code",
      "execution_count": null,
      "metadata": {
        "id": "iEtri-5cCFiZ"
      },
      "outputs": [],
      "source": [
        "clusters = np.array(kmeans.fit_predict(X1))"
      ]
    },
    {
      "cell_type": "code",
      "execution_count": null,
      "metadata": {
        "colab": {
          "base_uri": "https://localhost:8080/"
        },
        "id": "eiUshH_zOkAV",
        "outputId": "6217a0ee-1076-4d13-f972-d9a69050fac2"
      },
      "outputs": [
        {
          "data": {
            "text/plain": [
              "(1631,)"
            ]
          },
          "execution_count": 500,
          "metadata": {},
          "output_type": "execute_result"
        }
      ],
      "source": [
        "clusters.shape"
      ]
    },
    {
      "cell_type": "markdown",
      "metadata": {
        "id": "t-Lts6vbCFiZ"
      },
      "source": [
        "## One-Hot Encoding"
      ]
    },
    {
      "cell_type": "code",
      "execution_count": null,
      "metadata": {
        "colab": {
          "base_uri": "https://localhost:8080/"
        },
        "id": "Q24igreRY8gP",
        "outputId": "06d36a26-bb44-48e9-941c-a4aac18588a4"
      },
      "outputs": [
        {
          "data": {
            "text/plain": [
              "array([0.0, 0.0, 0.908888996, ..., 0.0, 0.0, 0.655670345], dtype=object)"
            ]
          },
          "execution_count": 501,
          "metadata": {},
          "output_type": "execute_result"
        }
      ],
      "source": [
        "X1[X.shape[0],:]"
      ]
    },
    {
      "cell_type": "code",
      "execution_count": null,
      "metadata": {
        "id": "scxbLzJOCFiZ"
      },
      "outputs": [],
      "source": [
        "X1_aug= np.zeros((X1.shape[0],X1.shape[1]+20))\n",
        "for i in range(X1.shape[0]):\n",
        "    X1_aug[i,:X1.shape[1]] = X1[i]\n",
        "    X1_aug[i,X1.shape[1]+clusters[i]] = 10"
      ]
    },
    {
      "cell_type": "code",
      "execution_count": null,
      "metadata": {
        "id": "FPEoAhjMCFiZ"
      },
      "outputs": [],
      "source": [
        "X1 = X1_aug"
      ]
    },
    {
      "cell_type": "code",
      "execution_count": null,
      "metadata": {
        "id": "gPC6I9J8PRWm"
      },
      "outputs": [],
      "source": [
        "X = X1[:X.shape[0],:]"
      ]
    },
    {
      "cell_type": "code",
      "execution_count": null,
      "metadata": {
        "id": "th_QmpY8RQg1"
      },
      "outputs": [],
      "source": [
        "X_train = X"
      ]
    },
    {
      "cell_type": "code",
      "execution_count": null,
      "metadata": {
        "id": "hiC-4pMdPaIr"
      },
      "outputs": [],
      "source": [
        "X_test = X1[X.shape[0]:,:]"
      ]
    },
    {
      "cell_type": "markdown",
      "metadata": {
        "id": "11vDvO4sCFia"
      },
      "source": [
        "## LDA"
      ]
    },
    {
      "cell_type": "code",
      "execution_count": null,
      "metadata": {
        "id": "4EmBWKNYCFia"
      },
      "outputs": [],
      "source": [
        "Y_train= [unique.index(Y_train[i]) for i in range(len(Y_train))]\n",
        "Y_train = np.array(Y_train)"
      ]
    },
    {
      "cell_type": "code",
      "execution_count": null,
      "metadata": {
        "colab": {
          "base_uri": "https://localhost:8080/"
        },
        "id": "7NdIjzvhCFia",
        "outputId": "31ec318e-1c69-4cca-8040-d318df008215"
      },
      "outputs": [
        {
          "data": {
            "text/plain": [
              "(4116,)"
            ]
          },
          "execution_count": 508,
          "metadata": {},
          "output_type": "execute_result"
        }
      ],
      "source": [
        "X_train[30].shape"
      ]
    },
    {
      "cell_type": "code",
      "execution_count": null,
      "metadata": {
        "colab": {
          "base_uri": "https://localhost:8080/"
        },
        "id": "oj9aJQeoRGa2",
        "outputId": "a38b9e94-a4b5-45f3-f3a3-37cd865db130"
      },
      "outputs": [
        {
          "data": {
            "text/plain": [
              "(1216, 4116)"
            ]
          },
          "execution_count": 509,
          "metadata": {},
          "output_type": "execute_result"
        }
      ],
      "source": [
        "X_train.shape"
      ]
    },
    {
      "cell_type": "code",
      "execution_count": null,
      "metadata": {
        "colab": {
          "base_uri": "https://localhost:8080/",
          "height": 74
        },
        "id": "Ve1D9b0GCFia",
        "outputId": "38574556-37ad-49f1-caa6-d683a63c71f7"
      },
      "outputs": [
        {
          "data": {
            "text/html": [
              "<style>#sk-container-id-19 {color: black;background-color: white;}#sk-container-id-19 pre{padding: 0;}#sk-container-id-19 div.sk-toggleable {background-color: white;}#sk-container-id-19 label.sk-toggleable__label {cursor: pointer;display: block;width: 100%;margin-bottom: 0;padding: 0.3em;box-sizing: border-box;text-align: center;}#sk-container-id-19 label.sk-toggleable__label-arrow:before {content: \"▸\";float: left;margin-right: 0.25em;color: #696969;}#sk-container-id-19 label.sk-toggleable__label-arrow:hover:before {color: black;}#sk-container-id-19 div.sk-estimator:hover label.sk-toggleable__label-arrow:before {color: black;}#sk-container-id-19 div.sk-toggleable__content {max-height: 0;max-width: 0;overflow: hidden;text-align: left;background-color: #f0f8ff;}#sk-container-id-19 div.sk-toggleable__content pre {margin: 0.2em;color: black;border-radius: 0.25em;background-color: #f0f8ff;}#sk-container-id-19 input.sk-toggleable__control:checked~div.sk-toggleable__content {max-height: 200px;max-width: 100%;overflow: auto;}#sk-container-id-19 input.sk-toggleable__control:checked~label.sk-toggleable__label-arrow:before {content: \"▾\";}#sk-container-id-19 div.sk-estimator input.sk-toggleable__control:checked~label.sk-toggleable__label {background-color: #d4ebff;}#sk-container-id-19 div.sk-label input.sk-toggleable__control:checked~label.sk-toggleable__label {background-color: #d4ebff;}#sk-container-id-19 input.sk-hidden--visually {border: 0;clip: rect(1px 1px 1px 1px);clip: rect(1px, 1px, 1px, 1px);height: 1px;margin: -1px;overflow: hidden;padding: 0;position: absolute;width: 1px;}#sk-container-id-19 div.sk-estimator {font-family: monospace;background-color: #f0f8ff;border: 1px dotted black;border-radius: 0.25em;box-sizing: border-box;margin-bottom: 0.5em;}#sk-container-id-19 div.sk-estimator:hover {background-color: #d4ebff;}#sk-container-id-19 div.sk-parallel-item::after {content: \"\";width: 100%;border-bottom: 1px solid gray;flex-grow: 1;}#sk-container-id-19 div.sk-label:hover label.sk-toggleable__label {background-color: #d4ebff;}#sk-container-id-19 div.sk-serial::before {content: \"\";position: absolute;border-left: 1px solid gray;box-sizing: border-box;top: 0;bottom: 0;left: 50%;z-index: 0;}#sk-container-id-19 div.sk-serial {display: flex;flex-direction: column;align-items: center;background-color: white;padding-right: 0.2em;padding-left: 0.2em;position: relative;}#sk-container-id-19 div.sk-item {position: relative;z-index: 1;}#sk-container-id-19 div.sk-parallel {display: flex;align-items: stretch;justify-content: center;background-color: white;position: relative;}#sk-container-id-19 div.sk-item::before, #sk-container-id-19 div.sk-parallel-item::before {content: \"\";position: absolute;border-left: 1px solid gray;box-sizing: border-box;top: 0;bottom: 0;left: 50%;z-index: -1;}#sk-container-id-19 div.sk-parallel-item {display: flex;flex-direction: column;z-index: 1;position: relative;background-color: white;}#sk-container-id-19 div.sk-parallel-item:first-child::after {align-self: flex-end;width: 50%;}#sk-container-id-19 div.sk-parallel-item:last-child::after {align-self: flex-start;width: 50%;}#sk-container-id-19 div.sk-parallel-item:only-child::after {width: 0;}#sk-container-id-19 div.sk-dashed-wrapped {border: 1px dashed gray;margin: 0 0.4em 0.5em 0.4em;box-sizing: border-box;padding-bottom: 0.4em;background-color: white;}#sk-container-id-19 div.sk-label label {font-family: monospace;font-weight: bold;display: inline-block;line-height: 1.2em;}#sk-container-id-19 div.sk-label-container {text-align: center;}#sk-container-id-19 div.sk-container {/* jupyter's `normalize.less` sets `[hidden] { display: none; }` but bootstrap.min.css set `[hidden] { display: none !important; }` so we also need the `!important` here to be able to override the default hidden behavior on the sphinx rendered scikit-learn.org. See: https://github.com/scikit-learn/scikit-learn/issues/21755 */display: inline-block !important;position: relative;}#sk-container-id-19 div.sk-text-repr-fallback {display: none;}</style><div id=\"sk-container-id-19\" class=\"sk-top-container\"><div class=\"sk-text-repr-fallback\"><pre>LinearDiscriminantAnalysis(n_components=10)</pre><b>In a Jupyter environment, please rerun this cell to show the HTML representation or trust the notebook. <br />On GitHub, the HTML representation is unable to render, please try loading this page with nbviewer.org.</b></div><div class=\"sk-container\" hidden><div class=\"sk-item\"><div class=\"sk-estimator sk-toggleable\"><input class=\"sk-toggleable__control sk-hidden--visually\" id=\"sk-estimator-id-19\" type=\"checkbox\" checked><label for=\"sk-estimator-id-19\" class=\"sk-toggleable__label sk-toggleable__label-arrow\">LinearDiscriminantAnalysis</label><div class=\"sk-toggleable__content\"><pre>LinearDiscriminantAnalysis(n_components=10)</pre></div></div></div></div></div>"
            ],
            "text/plain": [
              "LinearDiscriminantAnalysis(n_components=10)"
            ]
          },
          "execution_count": 510,
          "metadata": {},
          "output_type": "execute_result"
        }
      ],
      "source": [
        "clf = LinearDiscriminantAnalysis(n_components=10)\n",
        "clf.fit(X_train, Y_train)"
      ]
    },
    {
      "cell_type": "code",
      "execution_count": null,
      "metadata": {
        "id": "inw6F0nbCFib"
      },
      "outputs": [],
      "source": [
        "X_train = clf.transform(X_train)\n",
        "X_test = clf.transform(X_test)"
      ]
    },
    {
      "cell_type": "markdown",
      "metadata": {
        "id": "LGa7XW-BCFib"
      },
      "source": [
        "## Outlier Detection and Removal"
      ]
    },
    {
      "cell_type": "code",
      "execution_count": null,
      "metadata": {
        "colab": {
          "base_uri": "https://localhost:8080/",
          "height": 74
        },
        "id": "OglgezONCFib",
        "outputId": "c76468f1-a76c-4928-8d17-08b9ea9700e3"
      },
      "outputs": [
        {
          "data": {
            "text/html": [
              "<style>#sk-container-id-20 {color: black;background-color: white;}#sk-container-id-20 pre{padding: 0;}#sk-container-id-20 div.sk-toggleable {background-color: white;}#sk-container-id-20 label.sk-toggleable__label {cursor: pointer;display: block;width: 100%;margin-bottom: 0;padding: 0.3em;box-sizing: border-box;text-align: center;}#sk-container-id-20 label.sk-toggleable__label-arrow:before {content: \"▸\";float: left;margin-right: 0.25em;color: #696969;}#sk-container-id-20 label.sk-toggleable__label-arrow:hover:before {color: black;}#sk-container-id-20 div.sk-estimator:hover label.sk-toggleable__label-arrow:before {color: black;}#sk-container-id-20 div.sk-toggleable__content {max-height: 0;max-width: 0;overflow: hidden;text-align: left;background-color: #f0f8ff;}#sk-container-id-20 div.sk-toggleable__content pre {margin: 0.2em;color: black;border-radius: 0.25em;background-color: #f0f8ff;}#sk-container-id-20 input.sk-toggleable__control:checked~div.sk-toggleable__content {max-height: 200px;max-width: 100%;overflow: auto;}#sk-container-id-20 input.sk-toggleable__control:checked~label.sk-toggleable__label-arrow:before {content: \"▾\";}#sk-container-id-20 div.sk-estimator input.sk-toggleable__control:checked~label.sk-toggleable__label {background-color: #d4ebff;}#sk-container-id-20 div.sk-label input.sk-toggleable__control:checked~label.sk-toggleable__label {background-color: #d4ebff;}#sk-container-id-20 input.sk-hidden--visually {border: 0;clip: rect(1px 1px 1px 1px);clip: rect(1px, 1px, 1px, 1px);height: 1px;margin: -1px;overflow: hidden;padding: 0;position: absolute;width: 1px;}#sk-container-id-20 div.sk-estimator {font-family: monospace;background-color: #f0f8ff;border: 1px dotted black;border-radius: 0.25em;box-sizing: border-box;margin-bottom: 0.5em;}#sk-container-id-20 div.sk-estimator:hover {background-color: #d4ebff;}#sk-container-id-20 div.sk-parallel-item::after {content: \"\";width: 100%;border-bottom: 1px solid gray;flex-grow: 1;}#sk-container-id-20 div.sk-label:hover label.sk-toggleable__label {background-color: #d4ebff;}#sk-container-id-20 div.sk-serial::before {content: \"\";position: absolute;border-left: 1px solid gray;box-sizing: border-box;top: 0;bottom: 0;left: 50%;z-index: 0;}#sk-container-id-20 div.sk-serial {display: flex;flex-direction: column;align-items: center;background-color: white;padding-right: 0.2em;padding-left: 0.2em;position: relative;}#sk-container-id-20 div.sk-item {position: relative;z-index: 1;}#sk-container-id-20 div.sk-parallel {display: flex;align-items: stretch;justify-content: center;background-color: white;position: relative;}#sk-container-id-20 div.sk-item::before, #sk-container-id-20 div.sk-parallel-item::before {content: \"\";position: absolute;border-left: 1px solid gray;box-sizing: border-box;top: 0;bottom: 0;left: 50%;z-index: -1;}#sk-container-id-20 div.sk-parallel-item {display: flex;flex-direction: column;z-index: 1;position: relative;background-color: white;}#sk-container-id-20 div.sk-parallel-item:first-child::after {align-self: flex-end;width: 50%;}#sk-container-id-20 div.sk-parallel-item:last-child::after {align-self: flex-start;width: 50%;}#sk-container-id-20 div.sk-parallel-item:only-child::after {width: 0;}#sk-container-id-20 div.sk-dashed-wrapped {border: 1px dashed gray;margin: 0 0.4em 0.5em 0.4em;box-sizing: border-box;padding-bottom: 0.4em;background-color: white;}#sk-container-id-20 div.sk-label label {font-family: monospace;font-weight: bold;display: inline-block;line-height: 1.2em;}#sk-container-id-20 div.sk-label-container {text-align: center;}#sk-container-id-20 div.sk-container {/* jupyter's `normalize.less` sets `[hidden] { display: none; }` but bootstrap.min.css set `[hidden] { display: none !important; }` so we also need the `!important` here to be able to override the default hidden behavior on the sphinx rendered scikit-learn.org. See: https://github.com/scikit-learn/scikit-learn/issues/21755 */display: inline-block !important;position: relative;}#sk-container-id-20 div.sk-text-repr-fallback {display: none;}</style><div id=\"sk-container-id-20\" class=\"sk-top-container\"><div class=\"sk-text-repr-fallback\"><pre>LocalOutlierFactor(n_neighbors=25)</pre><b>In a Jupyter environment, please rerun this cell to show the HTML representation or trust the notebook. <br />On GitHub, the HTML representation is unable to render, please try loading this page with nbviewer.org.</b></div><div class=\"sk-container\" hidden><div class=\"sk-item\"><div class=\"sk-estimator sk-toggleable\"><input class=\"sk-toggleable__control sk-hidden--visually\" id=\"sk-estimator-id-20\" type=\"checkbox\" checked><label for=\"sk-estimator-id-20\" class=\"sk-toggleable__label sk-toggleable__label-arrow\">LocalOutlierFactor</label><div class=\"sk-toggleable__content\"><pre>LocalOutlierFactor(n_neighbors=25)</pre></div></div></div></div></div>"
            ],
            "text/plain": [
              "LocalOutlierFactor(n_neighbors=25)"
            ]
          },
          "execution_count": 512,
          "metadata": {},
          "output_type": "execute_result"
        }
      ],
      "source": [
        "clf = LocalOutlierFactor(n_neighbors=25)\n",
        "clf.fit(X_train)"
      ]
    },
    {
      "cell_type": "code",
      "execution_count": null,
      "metadata": {
        "colab": {
          "base_uri": "https://localhost:8080/"
        },
        "id": "RPMffzl5CFib",
        "outputId": "6ef5ae9c-53e4-4def-e75f-8b8d886a00f5"
      },
      "outputs": [
        {
          "data": {
            "text/plain": [
              "(1216,)"
            ]
          },
          "execution_count": 513,
          "metadata": {},
          "output_type": "execute_result"
        }
      ],
      "source": [
        "outliers = clf.fit_predict(X_train)\n",
        "outliers.shape"
      ]
    },
    {
      "cell_type": "code",
      "execution_count": null,
      "metadata": {
        "id": "w18r5cUkCFid"
      },
      "outputs": [],
      "source": [
        "X_aug = X_train\n",
        "Y_aug = np.array(Y_train)\n",
        "Y_aug.reshape((-1,1))\n",
        "delete =0\n",
        "for i in range(X_train.shape[0]):\n",
        "    if(outliers[i]==-1):\n",
        "        X_aug = np.delete(X_aug,i-delete,axis=0)\n",
        "        Y_aug = np.delete(Y_aug,i-delete,axis=0)\n",
        "        delete+=1"
      ]
    },
    {
      "cell_type": "code",
      "execution_count": null,
      "metadata": {
        "id": "6kHSj_EZCFid"
      },
      "outputs": [],
      "source": [
        "X_train=X_aug"
      ]
    },
    {
      "cell_type": "code",
      "execution_count": null,
      "metadata": {
        "id": "Kf7J_dWkFjJE"
      },
      "outputs": [],
      "source": [
        "Y_train = Y_aug"
      ]
    },
    {
      "cell_type": "code",
      "execution_count": null,
      "metadata": {
        "id": "tmxORuDjCFid"
      },
      "outputs": [],
      "source": [
        "Y_train = Y_train.reshape((-1,1))"
      ]
    },
    {
      "cell_type": "markdown",
      "metadata": {
        "id": "qXT9tgiECFid"
      },
      "source": [
        "## Multiclass Regression"
      ]
    },
    {
      "cell_type": "code",
      "execution_count": null,
      "metadata": {
        "id": "7skotJKqCFid"
      },
      "outputs": [],
      "source": [
        "tf.random.set_seed(1234)  # applied to achieve consistent results\n",
        "model = Sequential(\n",
        "    [\n",
        "        Dense(10, activation = 'relu',   name = \"L1\"),\n",
        "        Dense(20, activation = 'softmax', name = \"L2\")\n",
        "    ]\n",
        ")"
      ]
    },
    {
      "cell_type": "code",
      "execution_count": null,
      "metadata": {
        "colab": {
          "base_uri": "https://localhost:8080/"
        },
        "id": "9-0oVgQVEn5-",
        "outputId": "f545d788-16b5-444b-c945-da01f13d9dfb"
      },
      "outputs": [
        {
          "name": "stdout",
          "output_type": "stream",
          "text": [
            "Epoch 1/200\n",
            "31/31 [==============================] - 1s 2ms/step - loss: 2.3129\n",
            "Epoch 2/200\n",
            "31/31 [==============================] - 0s 2ms/step - loss: 0.4635\n",
            "Epoch 3/200\n",
            "31/31 [==============================] - 0s 2ms/step - loss: 0.1455\n",
            "Epoch 4/200\n",
            "31/31 [==============================] - 0s 2ms/step - loss: 0.0496\n",
            "Epoch 5/200\n",
            "31/31 [==============================] - 0s 2ms/step - loss: 0.0247\n",
            "Epoch 6/200\n",
            "31/31 [==============================] - 0s 2ms/step - loss: 0.0157\n",
            "Epoch 7/200\n",
            "31/31 [==============================] - 0s 3ms/step - loss: 0.0112\n",
            "Epoch 8/200\n",
            "31/31 [==============================] - 0s 2ms/step - loss: 0.0083\n",
            "Epoch 9/200\n",
            "31/31 [==============================] - 0s 2ms/step - loss: 0.0065\n",
            "Epoch 10/200\n",
            "31/31 [==============================] - 0s 2ms/step - loss: 0.0053\n",
            "Epoch 11/200\n",
            "31/31 [==============================] - 0s 2ms/step - loss: 0.0043\n",
            "Epoch 12/200\n",
            "31/31 [==============================] - 0s 3ms/step - loss: 0.0036\n",
            "Epoch 13/200\n",
            "31/31 [==============================] - 0s 2ms/step - loss: 0.0031\n",
            "Epoch 14/200\n",
            "31/31 [==============================] - 0s 2ms/step - loss: 0.0027\n",
            "Epoch 15/200\n",
            "31/31 [==============================] - 0s 3ms/step - loss: 0.0024\n",
            "Epoch 16/200\n",
            "31/31 [==============================] - 0s 2ms/step - loss: 0.0021\n",
            "Epoch 17/200\n",
            "31/31 [==============================] - 0s 2ms/step - loss: 0.0018\n",
            "Epoch 18/200\n",
            "31/31 [==============================] - 0s 2ms/step - loss: 0.0016\n",
            "Epoch 19/200\n",
            "31/31 [==============================] - 0s 2ms/step - loss: 0.0015\n",
            "Epoch 20/200\n",
            "31/31 [==============================] - 0s 2ms/step - loss: 0.0013\n",
            "Epoch 21/200\n",
            "31/31 [==============================] - 0s 2ms/step - loss: 0.0012\n",
            "Epoch 22/200\n",
            "31/31 [==============================] - 0s 1ms/step - loss: 0.0011\n",
            "Epoch 23/200\n",
            "31/31 [==============================] - 0s 2ms/step - loss: 0.0010\n",
            "Epoch 24/200\n",
            "31/31 [==============================] - 0s 2ms/step - loss: 9.4708e-04\n",
            "Epoch 25/200\n",
            "31/31 [==============================] - 0s 2ms/step - loss: 8.7192e-04\n",
            "Epoch 26/200\n",
            "31/31 [==============================] - 0s 2ms/step - loss: 8.1139e-04\n",
            "Epoch 27/200\n",
            "31/31 [==============================] - 0s 3ms/step - loss: 7.5290e-04\n",
            "Epoch 28/200\n",
            "31/31 [==============================] - 0s 2ms/step - loss: 7.0064e-04\n",
            "Epoch 29/200\n",
            "31/31 [==============================] - 0s 2ms/step - loss: 6.5773e-04\n",
            "Epoch 30/200\n",
            "31/31 [==============================] - 0s 2ms/step - loss: 6.1169e-04\n",
            "Epoch 31/200\n",
            "31/31 [==============================] - 0s 2ms/step - loss: 5.7474e-04\n",
            "Epoch 32/200\n",
            "31/31 [==============================] - 0s 2ms/step - loss: 5.3931e-04\n",
            "Epoch 33/200\n",
            "31/31 [==============================] - 0s 2ms/step - loss: 5.0710e-04\n",
            "Epoch 34/200\n",
            "31/31 [==============================] - 0s 2ms/step - loss: 4.7789e-04\n",
            "Epoch 35/200\n",
            "31/31 [==============================] - 0s 2ms/step - loss: 4.5282e-04\n",
            "Epoch 36/200\n",
            "31/31 [==============================] - 0s 2ms/step - loss: 4.2802e-04\n",
            "Epoch 37/200\n",
            "31/31 [==============================] - 0s 3ms/step - loss: 4.0493e-04\n",
            "Epoch 38/200\n",
            "31/31 [==============================] - 0s 3ms/step - loss: 3.8407e-04\n",
            "Epoch 39/200\n",
            "31/31 [==============================] - 0s 3ms/step - loss: 3.6483e-04\n",
            "Epoch 40/200\n",
            "31/31 [==============================] - 0s 3ms/step - loss: 3.4688e-04\n",
            "Epoch 41/200\n",
            "31/31 [==============================] - 0s 3ms/step - loss: 3.3078e-04\n",
            "Epoch 42/200\n",
            "31/31 [==============================] - 0s 3ms/step - loss: 3.1574e-04\n",
            "Epoch 43/200\n",
            "31/31 [==============================] - 0s 3ms/step - loss: 3.0061e-04\n",
            "Epoch 44/200\n",
            "31/31 [==============================] - 0s 3ms/step - loss: 2.8704e-04\n",
            "Epoch 45/200\n",
            "31/31 [==============================] - 0s 3ms/step - loss: 2.7464e-04\n",
            "Epoch 46/200\n",
            "31/31 [==============================] - 0s 3ms/step - loss: 2.6255e-04\n",
            "Epoch 47/200\n",
            "31/31 [==============================] - 0s 3ms/step - loss: 2.5154e-04\n",
            "Epoch 48/200\n",
            "31/31 [==============================] - 0s 3ms/step - loss: 2.4094e-04\n",
            "Epoch 49/200\n",
            "31/31 [==============================] - 0s 3ms/step - loss: 2.3175e-04\n",
            "Epoch 50/200\n",
            "31/31 [==============================] - 0s 3ms/step - loss: 2.2154e-04\n",
            "Epoch 51/200\n",
            "31/31 [==============================] - 0s 3ms/step - loss: 2.1317e-04\n",
            "Epoch 52/200\n",
            "31/31 [==============================] - 0s 3ms/step - loss: 2.0483e-04\n",
            "Epoch 53/200\n",
            "31/31 [==============================] - 0s 3ms/step - loss: 1.9688e-04\n",
            "Epoch 54/200\n",
            "31/31 [==============================] - 0s 3ms/step - loss: 1.8963e-04\n",
            "Epoch 55/200\n",
            "31/31 [==============================] - 0s 3ms/step - loss: 1.8245e-04\n",
            "Epoch 56/200\n",
            "31/31 [==============================] - 0s 3ms/step - loss: 1.7595e-04\n",
            "Epoch 57/200\n",
            "31/31 [==============================] - 0s 2ms/step - loss: 1.6947e-04\n",
            "Epoch 58/200\n",
            "31/31 [==============================] - 0s 3ms/step - loss: 1.6344e-04\n",
            "Epoch 59/200\n",
            "31/31 [==============================] - 0s 2ms/step - loss: 1.5779e-04\n",
            "Epoch 60/200\n",
            "31/31 [==============================] - 0s 3ms/step - loss: 1.5229e-04\n",
            "Epoch 61/200\n",
            "31/31 [==============================] - 0s 3ms/step - loss: 1.4706e-04\n",
            "Epoch 62/200\n",
            "31/31 [==============================] - 0s 3ms/step - loss: 1.4214e-04\n",
            "Epoch 63/200\n",
            "31/31 [==============================] - 0s 3ms/step - loss: 1.3753e-04\n",
            "Epoch 64/200\n",
            "31/31 [==============================] - 0s 3ms/step - loss: 1.3286e-04\n",
            "Epoch 65/200\n",
            "31/31 [==============================] - 0s 3ms/step - loss: 1.2851e-04\n",
            "Epoch 66/200\n",
            "31/31 [==============================] - 0s 3ms/step - loss: 1.2448e-04\n",
            "Epoch 67/200\n",
            "31/31 [==============================] - 0s 3ms/step - loss: 1.2053e-04\n",
            "Epoch 68/200\n",
            "31/31 [==============================] - 0s 3ms/step - loss: 1.1685e-04\n",
            "Epoch 69/200\n",
            "31/31 [==============================] - 0s 2ms/step - loss: 1.1319e-04\n",
            "Epoch 70/200\n",
            "31/31 [==============================] - 0s 2ms/step - loss: 1.0969e-04\n",
            "Epoch 71/200\n",
            "31/31 [==============================] - 0s 2ms/step - loss: 1.0638e-04\n",
            "Epoch 72/200\n",
            "31/31 [==============================] - 0s 2ms/step - loss: 1.0336e-04\n",
            "Epoch 73/200\n",
            "31/31 [==============================] - 0s 2ms/step - loss: 1.0021e-04\n",
            "Epoch 74/200\n",
            "31/31 [==============================] - 0s 2ms/step - loss: 9.7266e-05\n",
            "Epoch 75/200\n",
            "31/31 [==============================] - 0s 2ms/step - loss: 9.4588e-05\n",
            "Epoch 76/200\n",
            "31/31 [==============================] - 0s 2ms/step - loss: 9.1710e-05\n",
            "Epoch 77/200\n",
            "31/31 [==============================] - 0s 2ms/step - loss: 8.9067e-05\n",
            "Epoch 78/200\n",
            "31/31 [==============================] - 0s 3ms/step - loss: 8.6650e-05\n",
            "Epoch 79/200\n",
            "31/31 [==============================] - 0s 2ms/step - loss: 8.4281e-05\n",
            "Epoch 80/200\n",
            "31/31 [==============================] - 0s 2ms/step - loss: 8.1845e-05\n",
            "Epoch 81/200\n",
            "31/31 [==============================] - 0s 2ms/step - loss: 7.9675e-05\n",
            "Epoch 82/200\n",
            "31/31 [==============================] - 0s 2ms/step - loss: 7.7434e-05\n",
            "Epoch 83/200\n",
            "31/31 [==============================] - 0s 2ms/step - loss: 7.5329e-05\n",
            "Epoch 84/200\n",
            "31/31 [==============================] - 0s 2ms/step - loss: 7.3410e-05\n",
            "Epoch 85/200\n",
            "31/31 [==============================] - 0s 2ms/step - loss: 7.1458e-05\n",
            "Epoch 86/200\n",
            "31/31 [==============================] - 0s 2ms/step - loss: 6.9568e-05\n",
            "Epoch 87/200\n",
            "31/31 [==============================] - 0s 2ms/step - loss: 6.7817e-05\n",
            "Epoch 88/200\n",
            "31/31 [==============================] - 0s 2ms/step - loss: 6.5971e-05\n",
            "Epoch 89/200\n",
            "31/31 [==============================] - 0s 2ms/step - loss: 6.4193e-05\n",
            "Epoch 90/200\n",
            "31/31 [==============================] - 0s 2ms/step - loss: 6.2622e-05\n",
            "Epoch 91/200\n",
            "31/31 [==============================] - 0s 2ms/step - loss: 6.1112e-05\n",
            "Epoch 92/200\n",
            "31/31 [==============================] - 0s 2ms/step - loss: 5.9539e-05\n",
            "Epoch 93/200\n",
            "31/31 [==============================] - 0s 2ms/step - loss: 5.8024e-05\n",
            "Epoch 94/200\n",
            "31/31 [==============================] - 0s 2ms/step - loss: 5.6556e-05\n",
            "Epoch 95/200\n",
            "31/31 [==============================] - 0s 2ms/step - loss: 5.5261e-05\n",
            "Epoch 96/200\n",
            "31/31 [==============================] - 0s 2ms/step - loss: 5.3845e-05\n",
            "Epoch 97/200\n",
            "31/31 [==============================] - 0s 2ms/step - loss: 5.2512e-05\n",
            "Epoch 98/200\n",
            "31/31 [==============================] - 0s 2ms/step - loss: 5.1233e-05\n",
            "Epoch 99/200\n",
            "31/31 [==============================] - 0s 2ms/step - loss: 4.9999e-05\n",
            "Epoch 100/200\n",
            "31/31 [==============================] - 0s 2ms/step - loss: 4.8763e-05\n",
            "Epoch 101/200\n",
            "31/31 [==============================] - 0s 2ms/step - loss: 4.7679e-05\n",
            "Epoch 102/200\n",
            "31/31 [==============================] - 0s 2ms/step - loss: 4.6599e-05\n",
            "Epoch 103/200\n",
            "31/31 [==============================] - 0s 2ms/step - loss: 4.5440e-05\n",
            "Epoch 104/200\n",
            "31/31 [==============================] - 0s 2ms/step - loss: 4.4365e-05\n",
            "Epoch 105/200\n",
            "31/31 [==============================] - 0s 2ms/step - loss: 4.3351e-05\n",
            "Epoch 106/200\n",
            "31/31 [==============================] - 0s 2ms/step - loss: 4.2318e-05\n",
            "Epoch 107/200\n",
            "31/31 [==============================] - 0s 2ms/step - loss: 4.1394e-05\n",
            "Epoch 108/200\n",
            "31/31 [==============================] - 0s 2ms/step - loss: 4.0432e-05\n",
            "Epoch 109/200\n",
            "31/31 [==============================] - 0s 2ms/step - loss: 3.9479e-05\n",
            "Epoch 110/200\n",
            "31/31 [==============================] - 0s 2ms/step - loss: 3.8614e-05\n",
            "Epoch 111/200\n",
            "31/31 [==============================] - 0s 2ms/step - loss: 3.7799e-05\n",
            "Epoch 112/200\n",
            "31/31 [==============================] - 0s 2ms/step - loss: 3.6939e-05\n",
            "Epoch 113/200\n",
            "31/31 [==============================] - 0s 2ms/step - loss: 3.6080e-05\n",
            "Epoch 114/200\n",
            "31/31 [==============================] - 0s 3ms/step - loss: 3.5280e-05\n",
            "Epoch 115/200\n",
            "31/31 [==============================] - 0s 2ms/step - loss: 3.4500e-05\n",
            "Epoch 116/200\n",
            "31/31 [==============================] - 0s 2ms/step - loss: 3.3759e-05\n",
            "Epoch 117/200\n",
            "31/31 [==============================] - 0s 2ms/step - loss: 3.3018e-05\n",
            "Epoch 118/200\n",
            "31/31 [==============================] - 0s 2ms/step - loss: 3.2318e-05\n",
            "Epoch 119/200\n",
            "31/31 [==============================] - 0s 2ms/step - loss: 3.1578e-05\n",
            "Epoch 120/200\n",
            "31/31 [==============================] - 0s 2ms/step - loss: 3.0921e-05\n",
            "Epoch 121/200\n",
            "31/31 [==============================] - 0s 2ms/step - loss: 3.0260e-05\n",
            "Epoch 122/200\n",
            "31/31 [==============================] - 0s 2ms/step - loss: 2.9627e-05\n",
            "Epoch 123/200\n",
            "31/31 [==============================] - 0s 2ms/step - loss: 2.9039e-05\n",
            "Epoch 124/200\n",
            "31/31 [==============================] - 0s 2ms/step - loss: 2.8364e-05\n",
            "Epoch 125/200\n",
            "31/31 [==============================] - 0s 2ms/step - loss: 2.7763e-05\n",
            "Epoch 126/200\n",
            "31/31 [==============================] - 0s 2ms/step - loss: 2.7194e-05\n",
            "Epoch 127/200\n",
            "31/31 [==============================] - 0s 2ms/step - loss: 2.6626e-05\n",
            "Epoch 128/200\n",
            "31/31 [==============================] - 0s 2ms/step - loss: 2.6046e-05\n",
            "Epoch 129/200\n",
            "31/31 [==============================] - 0s 2ms/step - loss: 2.5530e-05\n",
            "Epoch 130/200\n",
            "31/31 [==============================] - 0s 2ms/step - loss: 2.4977e-05\n",
            "Epoch 131/200\n",
            "31/31 [==============================] - 0s 2ms/step - loss: 2.4490e-05\n",
            "Epoch 132/200\n",
            "31/31 [==============================] - 0s 2ms/step - loss: 2.3996e-05\n",
            "Epoch 133/200\n",
            "31/31 [==============================] - 0s 2ms/step - loss: 2.3486e-05\n",
            "Epoch 134/200\n",
            "31/31 [==============================] - 0s 2ms/step - loss: 2.3021e-05\n",
            "Epoch 135/200\n",
            "31/31 [==============================] - 0s 2ms/step - loss: 2.2560e-05\n",
            "Epoch 136/200\n",
            "31/31 [==============================] - 0s 2ms/step - loss: 2.2085e-05\n",
            "Epoch 137/200\n",
            "31/31 [==============================] - 0s 2ms/step - loss: 2.1630e-05\n",
            "Epoch 138/200\n",
            "31/31 [==============================] - 0s 3ms/step - loss: 2.1198e-05\n",
            "Epoch 139/200\n",
            "31/31 [==============================] - 0s 2ms/step - loss: 2.0776e-05\n",
            "Epoch 140/200\n",
            "31/31 [==============================] - 0s 2ms/step - loss: 2.0365e-05\n",
            "Epoch 141/200\n",
            "31/31 [==============================] - 0s 2ms/step - loss: 1.9940e-05\n",
            "Epoch 142/200\n",
            "31/31 [==============================] - 0s 2ms/step - loss: 1.9563e-05\n",
            "Epoch 143/200\n",
            "31/31 [==============================] - 0s 2ms/step - loss: 1.9153e-05\n",
            "Epoch 144/200\n",
            "31/31 [==============================] - 0s 2ms/step - loss: 1.8788e-05\n",
            "Epoch 145/200\n",
            "31/31 [==============================] - 0s 2ms/step - loss: 1.8425e-05\n",
            "Epoch 146/200\n",
            "31/31 [==============================] - 0s 2ms/step - loss: 1.8070e-05\n",
            "Epoch 147/200\n",
            "31/31 [==============================] - 0s 2ms/step - loss: 1.7696e-05\n",
            "Epoch 148/200\n",
            "31/31 [==============================] - 0s 2ms/step - loss: 1.7343e-05\n",
            "Epoch 149/200\n",
            "31/31 [==============================] - 0s 2ms/step - loss: 1.7024e-05\n",
            "Epoch 150/200\n",
            "31/31 [==============================] - 0s 2ms/step - loss: 1.6686e-05\n",
            "Epoch 151/200\n",
            "31/31 [==============================] - 0s 2ms/step - loss: 1.6380e-05\n",
            "Epoch 152/200\n",
            "31/31 [==============================] - 0s 2ms/step - loss: 1.6055e-05\n",
            "Epoch 153/200\n",
            "31/31 [==============================] - 0s 2ms/step - loss: 1.5733e-05\n",
            "Epoch 154/200\n",
            "31/31 [==============================] - 0s 2ms/step - loss: 1.5423e-05\n",
            "Epoch 155/200\n",
            "31/31 [==============================] - 0s 2ms/step - loss: 1.5125e-05\n",
            "Epoch 156/200\n",
            "31/31 [==============================] - 0s 2ms/step - loss: 1.4837e-05\n",
            "Epoch 157/200\n",
            "31/31 [==============================] - 0s 2ms/step - loss: 1.4546e-05\n",
            "Epoch 158/200\n",
            "31/31 [==============================] - 0s 2ms/step - loss: 1.4289e-05\n",
            "Epoch 159/200\n",
            "31/31 [==============================] - 0s 2ms/step - loss: 1.4008e-05\n",
            "Epoch 160/200\n",
            "31/31 [==============================] - 0s 2ms/step - loss: 1.3734e-05\n",
            "Epoch 161/200\n",
            "31/31 [==============================] - 0s 2ms/step - loss: 1.3493e-05\n",
            "Epoch 162/200\n",
            "31/31 [==============================] - 0s 2ms/step - loss: 1.3240e-05\n",
            "Epoch 163/200\n",
            "31/31 [==============================] - 0s 2ms/step - loss: 1.2980e-05\n",
            "Epoch 164/200\n",
            "31/31 [==============================] - 0s 2ms/step - loss: 1.2724e-05\n",
            "Epoch 165/200\n",
            "31/31 [==============================] - 0s 2ms/step - loss: 1.2487e-05\n",
            "Epoch 166/200\n",
            "31/31 [==============================] - 0s 2ms/step - loss: 1.2264e-05\n",
            "Epoch 167/200\n",
            "31/31 [==============================] - 0s 2ms/step - loss: 1.2027e-05\n",
            "Epoch 168/200\n",
            "31/31 [==============================] - 0s 2ms/step - loss: 1.1808e-05\n",
            "Epoch 169/200\n",
            "31/31 [==============================] - 0s 2ms/step - loss: 1.1596e-05\n",
            "Epoch 170/200\n",
            "31/31 [==============================] - 0s 2ms/step - loss: 1.1360e-05\n",
            "Epoch 171/200\n",
            "31/31 [==============================] - 0s 3ms/step - loss: 1.1163e-05\n",
            "Epoch 172/200\n",
            "31/31 [==============================] - 0s 2ms/step - loss: 1.0969e-05\n",
            "Epoch 173/200\n",
            "31/31 [==============================] - 0s 2ms/step - loss: 1.0747e-05\n",
            "Epoch 174/200\n",
            "31/31 [==============================] - 0s 2ms/step - loss: 1.0545e-05\n",
            "Epoch 175/200\n",
            "31/31 [==============================] - 0s 2ms/step - loss: 1.0361e-05\n",
            "Epoch 176/200\n",
            "31/31 [==============================] - 0s 2ms/step - loss: 1.0172e-05\n",
            "Epoch 177/200\n",
            "31/31 [==============================] - 0s 2ms/step - loss: 9.9869e-06\n",
            "Epoch 178/200\n",
            "31/31 [==============================] - 0s 2ms/step - loss: 9.8053e-06\n",
            "Epoch 179/200\n",
            "31/31 [==============================] - 0s 2ms/step - loss: 9.6160e-06\n",
            "Epoch 180/200\n",
            "31/31 [==============================] - 0s 2ms/step - loss: 9.4400e-06\n",
            "Epoch 181/200\n",
            "31/31 [==============================] - 0s 2ms/step - loss: 9.2743e-06\n",
            "Epoch 182/200\n",
            "31/31 [==============================] - 0s 2ms/step - loss: 9.0978e-06\n",
            "Epoch 183/200\n",
            "31/31 [==============================] - 0s 3ms/step - loss: 8.9378e-06\n",
            "Epoch 184/200\n",
            "31/31 [==============================] - 0s 2ms/step - loss: 8.7836e-06\n",
            "Epoch 185/200\n",
            "31/31 [==============================] - 0s 2ms/step - loss: 8.6159e-06\n",
            "Epoch 186/200\n",
            "31/31 [==============================] - 0s 2ms/step - loss: 8.4678e-06\n",
            "Epoch 187/200\n",
            "31/31 [==============================] - 0s 2ms/step - loss: 8.3075e-06\n",
            "Epoch 188/200\n",
            "31/31 [==============================] - 0s 2ms/step - loss: 8.1674e-06\n",
            "Epoch 189/200\n",
            "31/31 [==============================] - 0s 2ms/step - loss: 8.0251e-06\n",
            "Epoch 190/200\n",
            "31/31 [==============================] - 0s 2ms/step - loss: 7.8895e-06\n",
            "Epoch 191/200\n",
            "31/31 [==============================] - 0s 2ms/step - loss: 7.7337e-06\n",
            "Epoch 192/200\n",
            "31/31 [==============================] - 0s 2ms/step - loss: 7.5899e-06\n",
            "Epoch 193/200\n",
            "31/31 [==============================] - 0s 2ms/step - loss: 7.4645e-06\n",
            "Epoch 194/200\n",
            "31/31 [==============================] - 0s 2ms/step - loss: 7.3361e-06\n",
            "Epoch 195/200\n",
            "31/31 [==============================] - 0s 2ms/step - loss: 7.1992e-06\n",
            "Epoch 196/200\n",
            "31/31 [==============================] - 0s 2ms/step - loss: 7.0633e-06\n",
            "Epoch 197/200\n",
            "31/31 [==============================] - 0s 2ms/step - loss: 6.9502e-06\n",
            "Epoch 198/200\n",
            "31/31 [==============================] - 0s 2ms/step - loss: 6.8258e-06\n",
            "Epoch 199/200\n",
            "31/31 [==============================] - 0s 2ms/step - loss: 6.6969e-06\n",
            "Epoch 200/200\n",
            "31/31 [==============================] - 0s 2ms/step - loss: 6.5791e-06\n"
          ]
        },
        {
          "data": {
            "text/plain": [
              "<keras.callbacks.History at 0x7f8eb42b5730>"
            ]
          },
          "execution_count": 519,
          "metadata": {},
          "output_type": "execute_result"
        }
      ],
      "source": [
        "model.compile(\n",
        "    loss=tf.keras.losses.SparseCategoricalCrossentropy(),\n",
        "    optimizer=tf.keras.optimizers.Adam(0.01),\n",
        ")\n",
        "\n",
        "model.fit(\n",
        "    X_train,Y_train,\n",
        "    epochs=200\n",
        ") "
      ]
    },
    {
      "cell_type": "code",
      "execution_count": null,
      "metadata": {
        "colab": {
          "base_uri": "https://localhost:8080/"
        },
        "id": "aNMMRv5YF-By",
        "outputId": "a744c435-0ca4-45c2-bae2-144e397c8138"
      },
      "outputs": [
        {
          "name": "stdout",
          "output_type": "stream",
          "text": [
            "13/13 [==============================] - 0s 2ms/step\n"
          ]
        }
      ],
      "source": [
        "Y_predict = model.predict(X_test)"
      ]
    },
    {
      "cell_type": "code",
      "execution_count": null,
      "metadata": {
        "colab": {
          "base_uri": "https://localhost:8080/"
        },
        "id": "Xeoe89dwXCNs",
        "outputId": "e216b3cd-58e5-498f-96a9-4ebd7de06a70"
      },
      "outputs": [
        {
          "data": {
            "text/plain": [
              "array([-38.29973619,   2.59730102,  11.56851881, -18.43243656,\n",
              "        14.82342484,  10.83131155,  12.36713774,   2.32931453,\n",
              "         8.19601905,   9.02529689])"
            ]
          },
          "execution_count": 521,
          "metadata": {},
          "output_type": "execute_result"
        }
      ],
      "source": [
        "X_test[3]"
      ]
    },
    {
      "cell_type": "code",
      "execution_count": null,
      "metadata": {
        "colab": {
          "base_uri": "https://localhost:8080/"
        },
        "id": "B-Q_cdzFLEVa",
        "outputId": "a8f0df25-76fb-4f54-ca2f-4d8f5cf45962"
      },
      "outputs": [
        {
          "data": {
            "text/plain": [
              "6"
            ]
          },
          "execution_count": 522,
          "metadata": {},
          "output_type": "execute_result"
        }
      ],
      "source": [
        "list(Y_predict[2]).index(np.max(Y_predict[2]))"
      ]
    },
    {
      "cell_type": "code",
      "execution_count": null,
      "metadata": {
        "id": "LPKJrlm4T34v"
      },
      "outputs": [],
      "source": [
        "final = np.empty((Y_predict.shape[0],2),dtype='object')\n",
        "for i in range(Y_predict.shape[0]):\n",
        "  final[i,0] = i\n",
        "  final[i,1] =  unique[list(Y_predict[i]).index(np.max(Y_predict[i]))]"
      ]
    },
    {
      "cell_type": "code",
      "execution_count": null,
      "metadata": {
        "colab": {
          "base_uri": "https://localhost:8080/"
        },
        "id": "_wwm_HRtWF5_",
        "outputId": "eedd5df7-b17e-4c68-c255-0eda1e721fab"
      },
      "outputs": [
        {
          "data": {
            "text/plain": [
              "array([[0, 'Orange_Raw'],\n",
              "       [1, 'Orange_Ripe'],\n",
              "       [2, 'Guava_Ripe'],\n",
              "       [3, 'Orange_Ripe'],\n",
              "       [4, 'Pomengranate_Raw'],\n",
              "       [5, 'Banana_Raw'],\n",
              "       [6, 'Leeche_Ripe'],\n",
              "       [7, 'Orange_Ripe'],\n",
              "       [8, 'Mango_Ripe'],\n",
              "       [9, 'Banana_Ripe'],\n",
              "       [10, 'Strawberry_Raw'],\n",
              "       [11, 'Coconut_Ripe'],\n",
              "       [12, 'Papaya_Ripe'],\n",
              "       [13, 'Mango_Raw'],\n",
              "       [14, 'Guava_Ripe'],\n",
              "       [15, 'Leeche_Raw'],\n",
              "       [16, 'Orange_Raw'],\n",
              "       [17, 'Strawberry_Raw'],\n",
              "       [18, 'Mango_Ripe'],\n",
              "       [19, 'Mango_Raw'],\n",
              "       [20, 'Coconut_Raw'],\n",
              "       [21, 'Orange_Ripe'],\n",
              "       [22, 'Mango_Ripe'],\n",
              "       [23, 'Pomengranate_Ripe'],\n",
              "       [24, 'Papaya_Ripe'],\n",
              "       [25, 'Mango_Raw'],\n",
              "       [26, 'Papaya_Raw'],\n",
              "       [27, 'Mango_Ripe'],\n",
              "       [28, 'Coconut_Raw'],\n",
              "       [29, 'Coconut_Raw'],\n",
              "       [30, 'Banana_Ripe'],\n",
              "       [31, 'Pomengranate_Raw'],\n",
              "       [32, 'Banana_Ripe'],\n",
              "       [33, 'Guava_Ripe'],\n",
              "       [34, 'Apple_Raw'],\n",
              "       [35, 'Mango_Ripe'],\n",
              "       [36, 'Orange_Ripe'],\n",
              "       [37, 'Orange_Raw'],\n",
              "       [38, 'Apple_Raw'],\n",
              "       [39, 'Banana_Raw'],\n",
              "       [40, 'Papaya_Raw'],\n",
              "       [41, 'Orange_Ripe'],\n",
              "       [42, 'Mango_Raw'],\n",
              "       [43, 'Papaya_Raw'],\n",
              "       [44, 'Mango_Raw'],\n",
              "       [45, 'Apple_Ripe'],\n",
              "       [46, 'Apple_Ripe'],\n",
              "       [47, 'Mango_Ripe'],\n",
              "       [48, 'Pomengranate_Raw'],\n",
              "       [49, 'Orange_Raw'],\n",
              "       [50, 'Orange_Raw'],\n",
              "       [51, 'Mango_Raw'],\n",
              "       [52, 'Mango_Raw'],\n",
              "       [53, 'Coconut_Ripe'],\n",
              "       [54, 'Pomengranate_Ripe'],\n",
              "       [55, 'Leeche_Ripe'],\n",
              "       [56, 'Strawberry_Ripe'],\n",
              "       [57, 'Orange_Ripe'],\n",
              "       [58, 'Pomengranate_Raw'],\n",
              "       [59, 'Pomengranate_Raw'],\n",
              "       [60, 'Banana_Raw'],\n",
              "       [61, 'Mango_Ripe'],\n",
              "       [62, 'Apple_Raw'],\n",
              "       [63, 'Pomengranate_Raw'],\n",
              "       [64, 'Pomengranate_Raw'],\n",
              "       [65, 'Apple_Raw'],\n",
              "       [66, 'Mango_Raw'],\n",
              "       [67, 'Guava_Raw'],\n",
              "       [68, 'Orange_Raw'],\n",
              "       [69, 'Pomengranate_Ripe'],\n",
              "       [70, 'Apple_Raw'],\n",
              "       [71, 'Strawberry_Raw'],\n",
              "       [72, 'Apple_Ripe'],\n",
              "       [73, 'Papaya_Raw'],\n",
              "       [74, 'Orange_Ripe'],\n",
              "       [75, 'Mango_Raw'],\n",
              "       [76, 'Coconut_Ripe'],\n",
              "       [77, 'Orange_Ripe'],\n",
              "       [78, 'Mango_Raw'],\n",
              "       [79, 'Orange_Ripe'],\n",
              "       [80, 'Pomengranate_Raw'],\n",
              "       [81, 'Strawberry_Raw'],\n",
              "       [82, 'Guava_Raw'],\n",
              "       [83, 'Coconut_Raw'],\n",
              "       [84, 'Guava_Ripe'],\n",
              "       [85, 'Mango_Ripe'],\n",
              "       [86, 'Mango_Raw'],\n",
              "       [87, 'Papaya_Ripe'],\n",
              "       [88, 'Orange_Ripe'],\n",
              "       [89, 'Guava_Ripe'],\n",
              "       [90, 'Pomengranate_Raw'],\n",
              "       [91, 'Banana_Ripe'],\n",
              "       [92, 'Pomengranate_Raw'],\n",
              "       [93, 'Mango_Raw'],\n",
              "       [94, 'Orange_Ripe'],\n",
              "       [95, 'Papaya_Raw'],\n",
              "       [96, 'Leeche_Raw'],\n",
              "       [97, 'Coconut_Raw'],\n",
              "       [98, 'Orange_Raw'],\n",
              "       [99, 'Pomengranate_Raw'],\n",
              "       [100, 'Orange_Raw'],\n",
              "       [101, 'Orange_Ripe'],\n",
              "       [102, 'Banana_Ripe'],\n",
              "       [103, 'Coconut_Raw'],\n",
              "       [104, 'Pomengranate_Raw'],\n",
              "       [105, 'Pomengranate_Raw'],\n",
              "       [106, 'Guava_Raw'],\n",
              "       [107, 'Coconut_Raw'],\n",
              "       [108, 'Apple_Ripe'],\n",
              "       [109, 'Papaya_Ripe'],\n",
              "       [110, 'Coconut_Raw'],\n",
              "       [111, 'Mango_Raw'],\n",
              "       [112, 'Strawberry_Raw'],\n",
              "       [113, 'Papaya_Ripe'],\n",
              "       [114, 'Mango_Ripe'],\n",
              "       [115, 'Pomengranate_Raw'],\n",
              "       [116, 'Apple_Ripe'],\n",
              "       [117, 'Mango_Raw'],\n",
              "       [118, 'Papaya_Raw'],\n",
              "       [119, 'Orange_Ripe'],\n",
              "       [120, 'Apple_Ripe'],\n",
              "       [121, 'Apple_Ripe'],\n",
              "       [122, 'Orange_Ripe'],\n",
              "       [123, 'Apple_Raw'],\n",
              "       [124, 'Apple_Ripe'],\n",
              "       [125, 'Orange_Ripe'],\n",
              "       [126, 'Pomengranate_Raw'],\n",
              "       [127, 'Orange_Ripe'],\n",
              "       [128, 'Mango_Raw'],\n",
              "       [129, 'Pomengranate_Raw'],\n",
              "       [130, 'Coconut_Ripe'],\n",
              "       [131, 'Mango_Ripe'],\n",
              "       [132, 'Papaya_Raw'],\n",
              "       [133, 'Coconut_Raw'],\n",
              "       [134, 'Mango_Raw'],\n",
              "       [135, 'Banana_Raw'],\n",
              "       [136, 'Orange_Raw'],\n",
              "       [137, 'Papaya_Raw'],\n",
              "       [138, 'Guava_Raw'],\n",
              "       [139, 'Apple_Raw'],\n",
              "       [140, 'Guava_Ripe'],\n",
              "       [141, 'Mango_Raw'],\n",
              "       [142, 'Coconut_Raw'],\n",
              "       [143, 'Pomengranate_Raw'],\n",
              "       [144, 'Mango_Raw'],\n",
              "       [145, 'Papaya_Raw'],\n",
              "       [146, 'Pomengranate_Raw'],\n",
              "       [147, 'Orange_Ripe'],\n",
              "       [148, 'Apple_Ripe'],\n",
              "       [149, 'Strawberry_Raw'],\n",
              "       [150, 'Orange_Ripe'],\n",
              "       [151, 'Leeche_Raw'],\n",
              "       [152, 'Orange_Ripe'],\n",
              "       [153, 'Pomengranate_Ripe'],\n",
              "       [154, 'Mango_Raw'],\n",
              "       [155, 'Apple_Ripe'],\n",
              "       [156, 'Leeche_Ripe'],\n",
              "       [157, 'Orange_Raw'],\n",
              "       [158, 'Orange_Ripe'],\n",
              "       [159, 'Pomengranate_Raw'],\n",
              "       [160, 'Papaya_Raw'],\n",
              "       [161, 'Mango_Ripe'],\n",
              "       [162, 'Leeche_Ripe'],\n",
              "       [163, 'Banana_Ripe'],\n",
              "       [164, 'Mango_Raw'],\n",
              "       [165, 'Mango_Raw'],\n",
              "       [166, 'Orange_Raw'],\n",
              "       [167, 'Guava_Raw'],\n",
              "       [168, 'Coconut_Raw'],\n",
              "       [169, 'Orange_Raw'],\n",
              "       [170, 'Papaya_Raw'],\n",
              "       [171, 'Coconut_Raw'],\n",
              "       [172, 'Mango_Ripe'],\n",
              "       [173, 'Coconut_Raw'],\n",
              "       [174, 'Pomengranate_Raw'],\n",
              "       [175, 'Orange_Raw'],\n",
              "       [176, 'Coconut_Raw'],\n",
              "       [177, 'Coconut_Raw'],\n",
              "       [178, 'Mango_Raw'],\n",
              "       [179, 'Strawberry_Raw'],\n",
              "       [180, 'Coconut_Raw'],\n",
              "       [181, 'Coconut_Ripe'],\n",
              "       [182, 'Papaya_Raw'],\n",
              "       [183, 'Mango_Raw'],\n",
              "       [184, 'Pomengranate_Raw'],\n",
              "       [185, 'Pomengranate_Raw'],\n",
              "       [186, 'Coconut_Raw'],\n",
              "       [187, 'Orange_Ripe'],\n",
              "       [188, 'Mango_Ripe'],\n",
              "       [189, 'Strawberry_Ripe'],\n",
              "       [190, 'Apple_Ripe'],\n",
              "       [191, 'Mango_Ripe'],\n",
              "       [192, 'Orange_Ripe'],\n",
              "       [193, 'Pomengranate_Ripe'],\n",
              "       [194, 'Apple_Ripe'],\n",
              "       [195, 'Mango_Ripe'],\n",
              "       [196, 'Apple_Ripe'],\n",
              "       [197, 'Orange_Raw'],\n",
              "       [198, 'Mango_Raw'],\n",
              "       [199, 'Leeche_Raw'],\n",
              "       [200, 'Coconut_Ripe'],\n",
              "       [201, 'Coconut_Raw'],\n",
              "       [202, 'Leeche_Ripe'],\n",
              "       [203, 'Mango_Raw'],\n",
              "       [204, 'Guava_Ripe'],\n",
              "       [205, 'Papaya_Raw'],\n",
              "       [206, 'Coconut_Raw'],\n",
              "       [207, 'Banana_Ripe'],\n",
              "       [208, 'Banana_Ripe'],\n",
              "       [209, 'Leeche_Ripe'],\n",
              "       [210, 'Strawberry_Raw'],\n",
              "       [211, 'Strawberry_Raw'],\n",
              "       [212, 'Coconut_Ripe'],\n",
              "       [213, 'Banana_Ripe'],\n",
              "       [214, 'Guava_Ripe'],\n",
              "       [215, 'Guava_Ripe'],\n",
              "       [216, 'Orange_Raw'],\n",
              "       [217, 'Orange_Raw'],\n",
              "       [218, 'Pomengranate_Raw'],\n",
              "       [219, 'Pomengranate_Ripe'],\n",
              "       [220, 'Mango_Raw'],\n",
              "       [221, 'Apple_Ripe'],\n",
              "       [222, 'Banana_Raw'],\n",
              "       [223, 'Orange_Ripe'],\n",
              "       [224, 'Mango_Ripe'],\n",
              "       [225, 'Apple_Ripe'],\n",
              "       [226, 'Pomengranate_Raw'],\n",
              "       [227, 'Pomengranate_Ripe'],\n",
              "       [228, 'Strawberry_Ripe'],\n",
              "       [229, 'Leeche_Raw'],\n",
              "       [230, 'Pomengranate_Raw'],\n",
              "       [231, 'Coconut_Raw'],\n",
              "       [232, 'Strawberry_Raw'],\n",
              "       [233, 'Pomengranate_Raw'],\n",
              "       [234, 'Guava_Ripe'],\n",
              "       [235, 'Papaya_Raw'],\n",
              "       [236, 'Orange_Ripe'],\n",
              "       [237, 'Apple_Ripe'],\n",
              "       [238, 'Orange_Raw'],\n",
              "       [239, 'Papaya_Ripe'],\n",
              "       [240, 'Coconut_Raw'],\n",
              "       [241, 'Pomengranate_Raw'],\n",
              "       [242, 'Coconut_Raw'],\n",
              "       [243, 'Coconut_Raw'],\n",
              "       [244, 'Mango_Ripe'],\n",
              "       [245, 'Mango_Raw'],\n",
              "       [246, 'Guava_Raw'],\n",
              "       [247, 'Leeche_Ripe'],\n",
              "       [248, 'Guava_Raw'],\n",
              "       [249, 'Pomengranate_Raw'],\n",
              "       [250, 'Guava_Raw'],\n",
              "       [251, 'Banana_Ripe'],\n",
              "       [252, 'Leeche_Ripe'],\n",
              "       [253, 'Leeche_Raw'],\n",
              "       [254, 'Orange_Ripe'],\n",
              "       [255, 'Apple_Raw'],\n",
              "       [256, 'Coconut_Raw'],\n",
              "       [257, 'Guava_Raw'],\n",
              "       [258, 'Coconut_Ripe'],\n",
              "       [259, 'Mango_Ripe'],\n",
              "       [260, 'Coconut_Raw'],\n",
              "       [261, 'Leeche_Ripe'],\n",
              "       [262, 'Leeche_Ripe'],\n",
              "       [263, 'Apple_Raw'],\n",
              "       [264, 'Mango_Ripe'],\n",
              "       [265, 'Apple_Raw'],\n",
              "       [266, 'Mango_Raw'],\n",
              "       [267, 'Mango_Raw'],\n",
              "       [268, 'Pomengranate_Raw'],\n",
              "       [269, 'Orange_Ripe'],\n",
              "       [270, 'Pomengranate_Raw'],\n",
              "       [271, 'Papaya_Raw'],\n",
              "       [272, 'Papaya_Ripe'],\n",
              "       [273, 'Apple_Raw'],\n",
              "       [274, 'Banana_Raw'],\n",
              "       [275, 'Apple_Ripe'],\n",
              "       [276, 'Orange_Ripe'],\n",
              "       [277, 'Banana_Raw'],\n",
              "       [278, 'Strawberry_Ripe'],\n",
              "       [279, 'Pomengranate_Raw'],\n",
              "       [280, 'Leeche_Ripe'],\n",
              "       [281, 'Apple_Ripe'],\n",
              "       [282, 'Banana_Raw'],\n",
              "       [283, 'Papaya_Ripe'],\n",
              "       [284, 'Guava_Ripe'],\n",
              "       [285, 'Papaya_Raw'],\n",
              "       [286, 'Orange_Ripe'],\n",
              "       [287, 'Apple_Ripe'],\n",
              "       [288, 'Banana_Ripe'],\n",
              "       [289, 'Pomengranate_Ripe'],\n",
              "       [290, 'Orange_Raw'],\n",
              "       [291, 'Pomengranate_Raw'],\n",
              "       [292, 'Apple_Ripe'],\n",
              "       [293, 'Mango_Raw'],\n",
              "       [294, 'Orange_Raw'],\n",
              "       [295, 'Guava_Raw'],\n",
              "       [296, 'Coconut_Ripe'],\n",
              "       [297, 'Banana_Raw'],\n",
              "       [298, 'Mango_Raw'],\n",
              "       [299, 'Coconut_Raw'],\n",
              "       [300, 'Leeche_Raw'],\n",
              "       [301, 'Pomengranate_Raw'],\n",
              "       [302, 'Guava_Ripe'],\n",
              "       [303, 'Apple_Ripe'],\n",
              "       [304, 'Apple_Raw'],\n",
              "       [305, 'Pomengranate_Ripe'],\n",
              "       [306, 'Pomengranate_Ripe'],\n",
              "       [307, 'Guava_Ripe'],\n",
              "       [308, 'Banana_Ripe'],\n",
              "       [309, 'Coconut_Ripe'],\n",
              "       [310, 'Mango_Raw'],\n",
              "       [311, 'Leeche_Ripe'],\n",
              "       [312, 'Orange_Ripe'],\n",
              "       [313, 'Apple_Ripe'],\n",
              "       [314, 'Orange_Ripe'],\n",
              "       [315, 'Mango_Raw'],\n",
              "       [316, 'Apple_Ripe'],\n",
              "       [317, 'Pomengranate_Raw'],\n",
              "       [318, 'Papaya_Ripe'],\n",
              "       [319, 'Pomengranate_Ripe'],\n",
              "       [320, 'Orange_Ripe'],\n",
              "       [321, 'Apple_Raw'],\n",
              "       [322, 'Strawberry_Raw'],\n",
              "       [323, 'Pomengranate_Raw'],\n",
              "       [324, 'Mango_Raw'],\n",
              "       [325, 'Strawberry_Raw'],\n",
              "       [326, 'Pomengranate_Ripe'],\n",
              "       [327, 'Leeche_Ripe'],\n",
              "       [328, 'Orange_Ripe'],\n",
              "       [329, 'Orange_Raw'],\n",
              "       [330, 'Apple_Ripe'],\n",
              "       [331, 'Papaya_Raw'],\n",
              "       [332, 'Orange_Raw'],\n",
              "       [333, 'Guava_Raw'],\n",
              "       [334, 'Coconut_Raw'],\n",
              "       [335, 'Pomengranate_Ripe'],\n",
              "       [336, 'Orange_Ripe'],\n",
              "       [337, 'Papaya_Raw'],\n",
              "       [338, 'Apple_Ripe'],\n",
              "       [339, 'Mango_Raw'],\n",
              "       [340, 'Coconut_Raw'],\n",
              "       [341, 'Pomengranate_Ripe'],\n",
              "       [342, 'Papaya_Raw'],\n",
              "       [343, 'Mango_Ripe'],\n",
              "       [344, 'Papaya_Ripe'],\n",
              "       [345, 'Coconut_Raw'],\n",
              "       [346, 'Mango_Raw'],\n",
              "       [347, 'Banana_Raw'],\n",
              "       [348, 'Pomengranate_Raw'],\n",
              "       [349, 'Apple_Ripe'],\n",
              "       [350, 'Strawberry_Ripe'],\n",
              "       [351, 'Mango_Ripe'],\n",
              "       [352, 'Orange_Ripe'],\n",
              "       [353, 'Orange_Ripe'],\n",
              "       [354, 'Coconut_Raw'],\n",
              "       [355, 'Strawberry_Raw'],\n",
              "       [356, 'Pomengranate_Ripe'],\n",
              "       [357, 'Coconut_Ripe'],\n",
              "       [358, 'Mango_Raw'],\n",
              "       [359, 'Strawberry_Raw'],\n",
              "       [360, 'Papaya_Raw'],\n",
              "       [361, 'Pomengranate_Raw'],\n",
              "       [362, 'Mango_Raw'],\n",
              "       [363, 'Guava_Raw'],\n",
              "       [364, 'Orange_Raw'],\n",
              "       [365, 'Orange_Raw'],\n",
              "       [366, 'Mango_Ripe'],\n",
              "       [367, 'Apple_Ripe'],\n",
              "       [368, 'Pomengranate_Ripe'],\n",
              "       [369, 'Orange_Raw'],\n",
              "       [370, 'Mango_Ripe'],\n",
              "       [371, 'Guava_Ripe'],\n",
              "       [372, 'Orange_Ripe'],\n",
              "       [373, 'Pomengranate_Raw'],\n",
              "       [374, 'Coconut_Raw'],\n",
              "       [375, 'Papaya_Ripe'],\n",
              "       [376, 'Orange_Ripe'],\n",
              "       [377, 'Orange_Ripe'],\n",
              "       [378, 'Papaya_Raw'],\n",
              "       [379, 'Orange_Raw'],\n",
              "       [380, 'Apple_Ripe'],\n",
              "       [381, 'Mango_Raw'],\n",
              "       [382, 'Guava_Ripe'],\n",
              "       [383, 'Pomengranate_Raw'],\n",
              "       [384, 'Pomengranate_Raw'],\n",
              "       [385, 'Leeche_Ripe'],\n",
              "       [386, 'Coconut_Ripe'],\n",
              "       [387, 'Mango_Raw'],\n",
              "       [388, 'Orange_Raw'],\n",
              "       [389, 'Coconut_Raw'],\n",
              "       [390, 'Pomengranate_Raw'],\n",
              "       [391, 'Mango_Ripe'],\n",
              "       [392, 'Coconut_Raw'],\n",
              "       [393, 'Guava_Raw'],\n",
              "       [394, 'Orange_Ripe'],\n",
              "       [395, 'Banana_Raw'],\n",
              "       [396, 'Coconut_Raw'],\n",
              "       [397, 'Coconut_Ripe'],\n",
              "       [398, 'Pomengranate_Ripe'],\n",
              "       [399, 'Apple_Ripe'],\n",
              "       [400, 'Orange_Raw'],\n",
              "       [401, 'Mango_Ripe'],\n",
              "       [402, 'Orange_Ripe'],\n",
              "       [403, 'Leeche_Raw'],\n",
              "       [404, 'Pomengranate_Ripe'],\n",
              "       [405, 'Coconut_Raw'],\n",
              "       [406, 'Orange_Ripe'],\n",
              "       [407, 'Banana_Ripe'],\n",
              "       [408, 'Banana_Ripe'],\n",
              "       [409, 'Coconut_Raw'],\n",
              "       [410, 'Orange_Ripe'],\n",
              "       [411, 'Strawberry_Ripe'],\n",
              "       [412, 'Pomengranate_Raw'],\n",
              "       [413, 'Guava_Raw'],\n",
              "       [414, 'Mango_Raw']], dtype=object)"
            ]
          },
          "execution_count": 524,
          "metadata": {},
          "output_type": "execute_result"
        }
      ],
      "source": [
        "final"
      ]
    },
    {
      "cell_type": "code",
      "execution_count": null,
      "metadata": {
        "id": "28wCPVTjUTl3"
      },
      "outputs": [],
      "source": [
        "df = pd.DataFrame(final, columns = ['ID','Category'])"
      ]
    },
    {
      "cell_type": "code",
      "execution_count": null,
      "metadata": {
        "id": "ZPdZO4qxUULy"
      },
      "outputs": [],
      "source": [
        "df.to_csv('a1.csv')"
      ]
    }
  ],
  "metadata": {
    "colab": {
      "provenance": []
    },
    "kernelspec": {
      "display_name": "Python 3",
      "language": "python",
      "name": "python3"
    },
    "language_info": {
      "codemirror_mode": {
        "name": "ipython",
        "version": 3
      },
      "file_extension": ".py",
      "mimetype": "text/x-python",
      "name": "python",
      "nbconvert_exporter": "python",
      "pygments_lexer": "ipython3",
      "version": "3.10.11"
    },
    "orig_nbformat": 4
  },
  "nbformat": 4,
  "nbformat_minor": 0
}
